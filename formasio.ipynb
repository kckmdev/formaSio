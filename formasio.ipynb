{
 "cells": [
  {
   "cell_type": "markdown",
   "metadata": {},
   "source": [
    "# Clone the Laravel Project\n",
    "Clone the Laravel project from the provided Git repository."
   ]
  },
  {
   "cell_type": "code",
   "execution_count": 26,
   "metadata": {},
   "outputs": [
    {
     "name": "stdout",
     "output_type": "stream",
     "text": [
      "The directory does not exist, creating it...\n",
      "The directory has been created.\n"
     ]
    },
    {
     "name": "stderr",
     "output_type": "stream",
     "text": [
      "Cloning into './formasio'...\n"
     ]
    },
    {
     "name": "stdout",
     "output_type": "stream",
     "text": [
      "Cloning the repository...\n",
      "Please wait...\n"
     ]
    },
    {
     "name": "stderr",
     "output_type": "stream",
     "text": [
      "Xdebug: [Step Debug] Could not connect to debugging client. Tried: localhost:9003 (through xdebug.client_host/xdebug.client_port).\n",
      "Installing dependencies from lock file (including require-dev)\n",
      "Verifying lock file contents can be installed on current platform.\n",
      "Package operations: 112 installs, 0 updates, 0 removals\n",
      "    0 [>---------------------------]    0 [->--------------------------]\n",
      "  - Installing doctrine/inflector (2.0.10): Extracting archive\n",
      "  - Installing doctrine/lexer (1.2.3): Extracting archive\n",
      "  - Installing symfony/polyfill-iconv (v1.29.0): Extracting archive\n",
      "  - Installing sabberworm/php-css-parser (v8.5.1): Extracting archive\n",
      "  - Installing symfony/polyfill-mbstring (v1.29.0): Extracting archive\n",
      "  - Installing phenx/php-svg-lib (0.5.3): Extracting archive\n",
      "  - Installing phenx/php-font-lib (0.5.6): Extracting archive\n",
      "  - Installing masterminds/html5 (2.9.0): Extracting archive\n",
      "  - Installing dompdf/dompdf (v2.0.4): Extracting archive\n",
      "  - Installing symfony/polyfill-ctype (v1.29.0): Extracting archive\n",
      "  - Installing webmozart/assert (1.11.0): Extracting archive\n",
      "  - Installing dragonmantank/cron-expression (v3.3.3): Extracting archive\n",
      "  - Installing symfony/polyfill-php80 (v1.29.0): Extracting archive\n",
      "  - Installing symfony/var-dumper (v5.4.38): Extracting archive\n",
      "  - Installing symfony/polyfill-intl-normalizer (v1.29.0): Extracting archive\n",
      "  - Installing symfony/polyfill-intl-grapheme (v1.29.0): Extracting archive\n",
      "  - Installing symfony/string (v5.4.36): Extracting archive\n",
      "  - Installing symfony/deprecation-contracts (v2.5.3): Extracting archive\n",
      "  - Installing psr/container (1.1.2): Extracting archive\n",
      "  - Installing symfony/service-contracts (v2.5.3): Extracting archive\n",
      "  - Installing symfony/polyfill-php73 (v1.29.0): Extracting archive\n",
      "  - Installing symfony/console (v5.4.36): Extracting archive\n",
      "  - Installing psr/log (1.1.4): Extracting archive\n",
      "  - Installing monolog/monolog (2.9.2): Extracting archive\n",
      "  - Installing voku/portable-ascii (1.6.1): Extracting archive\n",
      "  - Installing phpoption/phpoption (1.9.2): Extracting archive\n",
      "  - Installing graham-campbell/result-type (v1.1.2): Extracting archive\n",
      "  - Installing vlucas/phpdotenv (v5.6.0): Extracting archive\n",
      "  - Installing symfony/css-selector (v5.4.35): Extracting archive\n",
      "  - Installing tijsverkoyen/css-to-inline-styles (v2.2.7): Extracting archive\n",
      "  - Installing symfony/routing (v5.4.38): Extracting archive\n",
      "  - Installing symfony/process (v5.4.36): Extracting archive\n",
      "  - Installing symfony/polyfill-php72 (v1.29.0): Extracting archive\n",
      "  - Installing symfony/polyfill-intl-idn (v1.29.0): Extracting archive\n",
      "  - Installing symfony/mime (v5.4.38): Extracting archive\n",
      "  - Installing symfony/http-foundation (v5.4.38): Extracting archive\n",
      "  - Installing psr/event-dispatcher (1.0.0): Extracting archive\n",
      "  - Installing symfony/event-dispatcher-contracts (v2.5.3): Extracting archive\n",
      "  - Installing symfony/event-dispatcher (v5.4.35): Extracting archive\n",
      "  - Installing symfony/error-handler (v5.4.38): Extracting archive\n",
      "  - Installing symfony/http-kernel (v5.4.38): Extracting archive\n",
      "  - Installing symfony/finder (v5.4.35): Extracting archive\n",
      "  - Installing egulias/email-validator (2.1.25): Extracting archive\n",
      "  - Installing swiftmailer/swiftmailer (v6.3.0): Extracting archive\n",
      "  - Installing symfony/polyfill-php81 (v1.29.0): Extracting archive\n",
      "  - Installing ramsey/collection (1.3.0): Extracting archive\n",
      "  - Installing brick/math (0.9.3): Extracting archive\n",
      "  - Installing ramsey/uuid (4.2.3): Extracting archive\n",
      "  - Installing psr/simple-cache (1.0.1): Extracting archive\n",
      "  - Installing opis/closure (3.6.3): Extracting archive\n",
      "  - Installing symfony/translation-contracts (v2.5.3): Extracting archive\n",
      "  - Installing symfony/translation (v5.4.35): Extracting archive\n",
      "  - Installing psr/clock (1.0.0): Extracting archive\n",
      "  - Installing carbonphp/carbon-doctrine-types (2.1.0): Extracting archive\n",
      "  - Installing nesbot/carbon (2.72.3): Extracting archive\n",
      "  - Installing league/mime-type-detection (1.15.0): Extracting archive\n",
      "  - Installing league/flysystem (1.1.10): Extracting archive\n",
      "  - Installing nette/utils (v3.2.10): Extracting archive\n",
      "  - Installing nette/schema (v1.2.5): Extracting archive\n",
      "  - Installing dflydev/dot-access-data (v3.0.2): Extracting archive\n",
      "  - Installing league/config (v1.2.0): Extracting archive\n",
      "  - Installing league/commonmark (2.4.2): Extracting archive\n",
      "  - Installing laravel/serializable-closure (v1.3.3): Extracting archive\n",
      "  - Installing laravel/framework (v8.83.27): Extracting archive\n",
      "  - Installing facade/ignition-contracts (1.0.2): Extracting archive\n",
      "  - Installing facade/flare-client-php (1.10.0): Extracting archive\n",
      "  - Installing facade/ignition (2.17.7): Extracting archive\n",
      "  - Installing fakerphp/faker (v1.23.1): Extracting archive\n",
      "  - Installing fideloper/proxy (4.4.2): Extracting archive\n",
      "  - Installing asm89/stack-cors (v2.2.0): Extracting archive\n",
      "  - Installing fruitcake/laravel-cors (v2.2.0): Extracting archive\n",
      "  - Installing psr/http-message (2.0): Extracting archive\n",
      "  - Installing psr/http-client (1.0.3): Extracting archive\n",
      "  - Installing ralouphie/getallheaders (3.0.3): Extracting archive\n",
      "  - Installing psr/http-factory (1.0.2): Extracting archive\n",
      "  - Installing guzzlehttp/psr7 (2.6.2): Extracting archive\n",
      "  - Installing guzzlehttp/promises (2.0.2): Extracting archive\n",
      "  - Installing guzzlehttp/guzzle (7.8.1): Extracting archive\n",
      "  - Installing nikic/php-parser (v5.0.2): Extracting archive\n",
      "  - Installing psy/psysh (v0.12.3): Extracting archive\n",
      "  - Installing laravel/tinker (v2.9.0): Extracting archive\n",
      "  - Installing hamcrest/hamcrest-php (v2.0.1): Extracting archive\n",
      "  - Installing mockery/mockery (1.6.11): Extracting archive\n",
      "  - Installing filp/whoops (2.15.4): Extracting archive\n",
      "  - Installing nunomaduro/collision (v5.11.0): Extracting archive\n",
      "  - Installing sebastian/version (3.0.2): Extracting archive\n",
      "  - Installing sebastian/type (3.2.1): Extracting archive\n",
      "  - Installing sebastian/resource-operations (3.0.4): Extracting archive\n",
      "  - Installing sebastian/recursion-context (4.0.5): Extracting archive\n",
      "  - Installing sebastian/object-reflector (2.0.4): Extracting archive\n",
      "  - Installing sebastian/object-enumerator (4.0.4): Extracting archive\n",
      "  - Installing sebastian/global-state (5.0.7): Extracting archive\n",
      "  - Installing sebastian/exporter (4.0.6): Extracting archive\n",
      "  - Installing sebastian/environment (5.1.5): Extracting archive\n",
      "  - Installing sebastian/diff (4.0.6): Extracting archive\n",
      "  - Installing sebastian/comparator (4.0.8): Extracting archive\n",
      "  - Installing sebastian/code-unit (1.0.8): Extracting archive\n",
      "  - Installing sebastian/cli-parser (1.0.2): Extracting archive\n",
      "  - Installing phpunit/php-timer (5.0.3): Extracting archive\n",
      "  - Installing phpunit/php-text-template (2.0.4): Extracting archive\n",
      "  - Installing phpunit/php-invoker (3.1.1): Extracting archive\n",
      "  - Installing phpunit/php-file-iterator (3.0.6): Extracting archive\n",
      "  - Installing theseer/tokenizer (1.2.3): Extracting archive\n",
      "  - Installing sebastian/lines-of-code (1.0.4): Extracting archive\n",
      "  - Installing sebastian/complexity (2.0.3): Extracting archive\n",
      "  - Installing sebastian/code-unit-reverse-lookup (2.0.3): Extracting archive\n",
      "  - Installing phpunit/php-code-coverage (9.2.31): Extracting archive\n",
      "  - Installing phar-io/version (3.2.1): Extracting archive\n",
      "  - Installing phar-io/manifest (2.0.4): Extracting archive\n",
      "  - Installing myclabs/deep-copy (1.11.1): Extracting archive\n",
      "  - Installing doctrine/instantiator (1.5.0): Extracting archive\n",
      "  - Installing phpunit/phpunit (9.6.19): Extracting archive\n",
      "   0/112 [>---------------------------]   0%\n",
      "  12/112 [===>------------------------]  10%\n",
      "  30/112 [=======>--------------------]  26%\n",
      "  40/112 [==========>-----------------]  35%\n",
      "  49/112 [============>---------------]  43%\n",
      "  60/112 [===============>------------]  53%\n",
      "  72/112 [==================>---------]  64%\n",
      "  81/112 [====================>-------]  72%\n",
      "  91/112 [======================>-----]  81%\n",
      " 101/112 [=========================>--]  90%\n",
      " 112/112 [============================] 100%\n",
      "Package fruitcake/laravel-cors is abandoned, you should avoid using it. No replacement was suggested.\n",
      "Package swiftmailer/swiftmailer is abandoned, you should avoid using it. Use symfony/mailer instead.\n",
      "Generating optimized autoload files\n",
      "> Illuminate\\Foundation\\ComposerScripts::postAutoloadDump\n",
      "> @php artisan package:discover --ansi\n",
      "Xdebug: [Step Debug] Could not connect to debugging client. Tried: localhost:9003 (through xdebug.client_host/xdebug.client_port).\n",
      "Xdebug: [Step Debug] Could not connect to debugging client. Tried: localhost:9003 (through xdebug.client_host/xdebug.client_port).\n",
      "Xdebug: [Step Debug] Could not connect to debugging client. Tried: localhost:9003 (through xdebug.client_host/xdebug.client_port).\n",
      "79 packages you are using are looking for funding.\n",
      "Use the `composer fund` command to find out more!\n",
      "Xdebug: [Step Debug] Could not connect to debugging client. Tried: localhost:9003 (through xdebug.client_host/xdebug.client_port).\n"
     ]
    },
    {
     "name": "stdout",
     "output_type": "stream",
     "text": [
      "\n",
      "\n",
      "\n",
      "\n",
      "\n",
      "\n",
      "Discovered Package: \u001b[32mfacade/ignition\u001b[39m\n",
      "Discovered Package: \u001b[32mfideloper/proxy\u001b[39m\n",
      "Discovered Package: \u001b[32mfruitcake/laravel-cors\u001b[39m\n",
      "Discovered Package: \u001b[32mlaravel/tinker\u001b[39m\n",
      "Discovered Package: \u001b[32mnesbot/carbon\u001b[39m\n",
      "Discovered Package: \u001b[32mnunomaduro/collision\u001b[39m\n",
      "\u001b[32mPackage manifest generated successfully.\u001b[39m\n",
      "\n",
      "\n",
      "\n",
      "\n",
      "\n",
      "\n",
      "Application key set successfully.\n"
     ]
    },
    {
     "name": "stderr",
     "output_type": "stream",
     "text": [
      "Xdebug: [Step Debug] Could not connect to debugging client. Tried: localhost:9003 (through xdebug.client_host/xdebug.client_port).\n",
      "Xdebug: [Step Debug] Could not connect to debugging client. Tried: localhost:9003 (through xdebug.client_host/xdebug.client_port).\n"
     ]
    },
    {
     "data": {
      "text/plain": [
       "CompletedProcess(args=['php', 'artisan', 'key:generate'], returncode=0)"
      ]
     },
     "execution_count": 26,
     "metadata": {},
     "output_type": "execute_result"
    }
   ],
   "source": [
    "# Import necessary libraries\n",
    "import os\n",
    "import subprocess\n",
    "\n",
    "# Define the repository URL\n",
    "repo_url = \"https://github.com/kckmdev/formaSio.git\"\n",
    "\n",
    "# Define the directory where the project will be cloned\n",
    "clone_dir = \"./formasio\"\n",
    "\n",
    "# Check if the directory exists\n",
    "if os.path.exists(clone_dir):\n",
    "    print(\"The directory already exists, deleting it...\")\n",
    "    # Delete the directory\n",
    "    subprocess.run([\"rm\", \"-rf\", clone_dir])\n",
    "    print(\"The directory has been deleted.\")\n",
    "    print(\"Recreating the directory...\")\n",
    "    # Create the directory\n",
    "    subprocess.run([\"mkdir\", clone_dir])\n",
    "else:\n",
    "    print(\"The directory does not exist, creating it...\")\n",
    "    # Create the directory\n",
    "    subprocess.run([\"mkdir\", clone_dir])\n",
    "    print(\"The directory has been created.\")\n",
    "    \n",
    "\n",
    "# Clone the repository\n",
    "subprocess.run([\"git\", \"clone\", repo_url, clone_dir])\n",
    "\n",
    "#wait for the cloning to finish\n",
    "print(\"Cloning the repository...\")\n",
    "print(\"Please wait...\")\n",
    "\n",
    "\n",
    "# Change the current working directory to the cloned directory\n",
    "os.chdir(clone_dir)\n",
    "\n",
    "# make sure the .env.example file exists\n",
    "if not os.path.exists(\".env.exemple\"):\n",
    "    print(\"The .env.example file does not exist.\")\n",
    "    exit(1)\n",
    "\n",
    "# copy the .env.example file to .env\n",
    "subprocess.run([\"mv\", \".env.exemple\", \".env\"])\n",
    "\n",
    "# Install the Laravel project dependencies\n",
    "subprocess.run([\"composer\", \"install\"])\n",
    "\n",
    "# Generate the application key\n",
    "subprocess.run([\"php\", \"artisan\", \"key:generate\"])"
   ]
  },
  {
   "cell_type": "markdown",
   "metadata": {},
   "source": [
    "# Configure Laravel Environment\n",
    "Set up the Laravel environment variables and configuration files."
   ]
  },
  {
   "cell_type": "code",
   "execution_count": 27,
   "metadata": {},
   "outputs": [
    {
     "name": "stdout",
     "output_type": "stream",
     "text": [
      "\n",
      "\n",
      "\n",
      "\n",
      "\n",
      "\n"
     ]
    },
    {
     "name": "stderr",
     "output_type": "stream",
     "text": [
      "Xdebug: [Step Debug] Could not connect to debugging client. Tried: localhost:9003 (through xdebug.client_host/xdebug.client_port).\n",
      "Xdebug: [Step Debug] Could not connect to debugging client. Tried: localhost:9003 (through xdebug.client_host/xdebug.client_port).\n",
      "Xdebug: [Step Debug] Could not connect to debugging client. Tried: localhost:9003 (through xdebug.client_host/xdebug.client_port).\n",
      "Xdebug: [Step Debug] Could not connect to debugging client. Tried: localhost:9003 (through xdebug.client_host/xdebug.client_port).\n",
      "Xdebug: [Step Debug] Could not connect to debugging client. Tried: localhost:9003 (through xdebug.client_host/xdebug.client_port).\n",
      "Xdebug: [Step Debug] Could not connect to debugging client. Tried: localhost:9003 (through xdebug.client_host/xdebug.client_port).\n"
     ]
    },
    {
     "name": "stdout",
     "output_type": "stream",
     "text": [
      "\n",
      "   Illuminate\\Database\\QueryException \n",
      "\n",
      "  could not find driver (SQL: select * from information_schema.tables where table_schema = homestead and table_name = migrations and table_type = 'BASE TABLE')\n",
      "\n",
      "  at vendor/laravel/framework/src/Illuminate/Database/Connection.php:712\n",
      "    708▕         // If an exception occurs when attempting to run a query, we'll format the error\n",
      "    709▕         // message to include the bindings with SQL, which will make this exception a\n",
      "    710▕         // lot more helpful to the developer instead of just the database's errors.\n",
      "    711▕         catch (Exception $e) {\n",
      "  ➜ 712▕             throw new QueryException(\n",
      "    713▕                 $query, $this->prepareBindings($bindings), $e\n",
      "    714▕             );\n",
      "    715▕         }\n",
      "    716▕     }\n",
      "\n",
      "      \u001b[2m+33 vendor frames \u001b[22m\n",
      "  34  artisan:35\n",
      "      Illuminate\\Foundation\\Console\\Kernel::handle()\n",
      "\n",
      "\n",
      "\n",
      "\n",
      "\n",
      "\n",
      "\n",
      "   Illuminate\\Database\\QueryException \n",
      "\n",
      "  could not find driver (SQL: insert into `utilisateurs` (`nom`, `prenom`, `telephone`, `email`, `mot_de_passe`, `statut`, `updated_at`, `created_at`) values (Martin, Alice, 0606060606, utilisateur@gmail.com, $2y$10$1cPN7ZDCeyfyu5fafCwZSOb54xWqHoHP3YkEy3c7Vbt9YSgZzVVWq, utilisateur, 2024-04-24 21:14:42, 2024-04-24 21:14:42))\n",
      "\n",
      "  at vendor/laravel/framework/src/Illuminate/Database/Connection.php:712\n",
      "    708▕         // If an exception occurs when attempting to run a query, we'll format the error\n",
      "    709▕         // message to include the bindings with SQL, which will make this exception a\n",
      "    710▕         // lot more helpful to the developer instead of just the database's errors.\n",
      "    711▕         catch (Exception $e) {\n",
      "  ➜ 712▕             throw new QueryException(\n",
      "    713▕                 $query, $this->prepareBindings($bindings), $e\n",
      "    714▕             );\n",
      "    715▕         }\n",
      "    716▕     }\n",
      "\n",
      "      \u001b[2m+18 vendor frames \u001b[22m\n",
      "  19  app/Models/CustomUser.php:55\n",
      "      Illuminate\\Database\\Eloquent\\Model::save()\n",
      "\n",
      "  20  database/seeds/DatabaseSeeder.php:23\n",
      "      App\\Models\\CustomUser::create()\n"
     ]
    },
    {
     "name": "stderr",
     "output_type": "stream",
     "text": [
      "Xdebug: [Step Debug] Could not connect to debugging client. Tried: localhost:9003 (through xdebug.client_host/xdebug.client_port).\n",
      "Xdebug: [Step Debug] Could not connect to debugging client. Tried: localhost:9003 (through xdebug.client_host/xdebug.client_port).\n",
      "Xdebug: [Step Debug] Could not connect to debugging client. Tried: localhost:9003 (through xdebug.client_host/xdebug.client_port).\n",
      "Xdebug: [Step Debug] Could not connect to debugging client. Tried: localhost:9003 (through xdebug.client_host/xdebug.client_port).\n"
     ]
    },
    {
     "data": {
      "text/plain": [
       "CompletedProcess(args=['php', 'artisan', 'db:seed'], returncode=1)"
      ]
     },
     "execution_count": 27,
     "metadata": {},
     "output_type": "execute_result"
    }
   ],
   "source": [
    "# Open the .env file\n",
    "with open(\".env\", \"r+\") as file:\n",
    "    # Read the lines\n",
    "    lines = file.readlines()\n",
    "    # Go back to the start of the file\n",
    "    file.seek(0)\n",
    "    # Write the modified lines\n",
    "    for line in lines:\n",
    "        # Replace the DB_HOST value\n",
    "        if line.startswith(\"DB_HOST=\"):\n",
    "            file.write(\"DB_HOST=127.0.0.1\\n\")\n",
    "        # Replace the DB_DATABASE value\n",
    "        elif line.startswith(\"DB_DATABASE=\"):\n",
    "            file.write(\"DB_DATABASE=homestead\\n\")\n",
    "        # Replace the DB_USERNAME value\n",
    "        elif line.startswith(\"DB_USERNAME=\"):\n",
    "            file.write(\"DB_USERNAME=root\\n\")\n",
    "        # Replace the DB_PASSWORD value\n",
    "        elif line.startswith(\"DB_PASSWORD=\"):\n",
    "            file.write(\"DB_PASSWORD=secret\\n\")\n",
    "        else:\n",
    "            file.write(line)\n",
    "    # Truncate the rest of the file\n",
    "    file.truncate()\n",
    "\n",
    "# Run the database migrations\n",
    "subprocess.run([\"php\", \"artisan\", \"migrate\"])\n",
    "\n",
    "# Run the database seeders\n",
    "subprocess.run([\"php\", \"artisan\", \"db:seed\"])"
   ]
  },
  {
   "cell_type": "markdown",
   "metadata": {},
   "source": [
    "# Run Laravel Project\n",
    "Start the Laravel server and make it accessible via the ngrok public URL."
   ]
  },
  {
   "cell_type": "code",
   "execution_count": 28,
   "metadata": {},
   "outputs": [
    {
     "name": "stderr",
     "output_type": "stream",
     "text": [
      "Xdebug: [Step Debug] Could not connect to debugging client. Tried: localhost:9003 (through xdebug.client_host/xdebug.client_port).\n"
     ]
    },
    {
     "name": "stdout",
     "output_type": "stream",
     "text": [
      "The application is now available at the following URL:\n"
     ]
    },
    {
     "name": "stderr",
     "output_type": "stream",
     "text": [
      "Pseudo-terminal will not be allocated because stdin is not a terminal.\n"
     ]
    },
    {
     "name": "stdout",
     "output_type": "stream",
     "text": [
      "\u001b[32mForwarding HTTP traffic from https://20b5d462f2a4c777e78fe8da9ab6cecb.serveo.net\n"
     ]
    }
   ],
   "source": [
    "# Start the Laravel server in the background\n",
    "import time\n",
    "server = subprocess.Popen([\"php\", \"artisan\", \"serve\"], stdout=subprocess.PIPE)\n",
    "\n",
    "# Allow some time for the server to start\n",
    "time.sleep(5)\n",
    "\n",
    "# Start the tunnel with ssh -R 80:localhost:3000 serveo.net\n",
    "tunnel = subprocess.Popen([\"ssh\", \"-oStrictHostKeyChecking=no\", \"-R\", \"80:localhost:8000\", \"serveo.net\"], stdout=subprocess.PIPE)\n",
    "\n",
    "# Print the public URL\n",
    "print(\"The application is now available at the following URL:\")\n",
    "print(tunnel.stdout.readline().decode(\"utf-8\").strip())"
   ]
  }
 ],
 "metadata": {
  "kernelspec": {
   "display_name": "Python 3 (ipykernel)",
   "language": "python",
   "name": "python3"
  },
  "language_info": {
   "codemirror_mode": {
    "name": "ipython",
    "version": 3
   },
   "file_extension": ".py",
   "mimetype": "text/x-python",
   "name": "python",
   "nbconvert_exporter": "python",
   "pygments_lexer": "ipython3",
   "version": "3.10.13"
  },
  "orig_nbformat": 4
 },
 "nbformat": 4,
 "nbformat_minor": 2
}
